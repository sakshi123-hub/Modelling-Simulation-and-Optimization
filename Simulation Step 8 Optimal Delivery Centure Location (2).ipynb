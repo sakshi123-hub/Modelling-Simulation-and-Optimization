{
 "cells": [
  {
   "cell_type": "markdown",
   "id": "c1e2f2dee41112f9",
   "metadata": {},
   "source": [
    "# Finding Optimal Delivery Centre Location"
   ]
  },
  {
   "cell_type": "markdown",
   "id": "14ed933ac0955cc6",
   "metadata": {},
   "source": [
    "### Import libraries"
   ]
  },
  {
   "cell_type": "code",
   "execution_count": 1,
   "id": "7241891e47bf284",
   "metadata": {
    "ExecuteTime": {
     "end_time": "2024-03-20T18:58:04.126639600Z",
     "start_time": "2024-03-20T18:58:04.043319800Z"
    }
   },
   "outputs": [],
   "source": [
    "import pickle\n",
    "import matplotlib.pyplot as plt\n",
    "import math\n",
    "import numpy as np\n",
    "import pandas as pd\n",
    "import time\n",
    "import random\n",
    "from scipy.stats import f_oneway"
   ]
  },
  {
   "cell_type": "code",
   "execution_count": 2,
   "id": "3c174732ccd56ff4",
   "metadata": {
    "ExecuteTime": {
     "end_time": "2024-03-20T18:58:04.150628800Z",
     "start_time": "2024-03-20T18:58:04.129080200Z"
    }
   },
   "outputs": [],
   "source": [
    "AVERAGE_SPEED = 15/3.6\n",
    "PREP_TIME_PER_PARCEL = 50\n",
    "RETURN_TIME_PER_PARCEL = 30\n",
    "AVERAGE_TIME_ANSWER_DOOR = 40\n",
    "WAIT_TIME_IF_CUSTOMER_DOESNT_ANSWER_DOOR = 60"
   ]
  },
  {
   "cell_type": "markdown",
   "id": "b9c40d9a2f5246f8",
   "metadata": {},
   "source": [
    "Operational cost is 8c/km"
   ]
  },
  {
   "cell_type": "code",
   "execution_count": 3,
   "id": "77ef1196486d7e00",
   "metadata": {
    "ExecuteTime": {
     "end_time": "2024-03-20T18:58:04.152629200Z",
     "start_time": "2024-03-20T18:58:04.133845200Z"
    }
   },
   "outputs": [],
   "source": [
    "OPERATIONAL_COST_BIKE = 0.08"
   ]
  },
  {
   "cell_type": "markdown",
   "id": "6acdd6adb448beee",
   "metadata": {},
   "source": [
    "Payment to driver is 30 euros per hour, with minimum of 60 euros pepr day"
   ]
  },
  {
   "cell_type": "code",
   "execution_count": 4,
   "id": "d4abece4a40ee7af",
   "metadata": {
    "ExecuteTime": {
     "end_time": "2024-03-20T18:58:04.189273200Z",
     "start_time": "2024-03-20T18:58:04.153630Z"
    }
   },
   "outputs": [],
   "source": [
    "DRIVER_PAYMENT = 30\n",
    "MINIMUM_DRIVER_PAYMENT = 60"
   ]
  },
  {
   "cell_type": "markdown",
   "id": "9c04aad9cc527017",
   "metadata": {},
   "source": [
    "### Plot map (as before)"
   ]
  },
  {
   "cell_type": "code",
   "execution_count": 5,
   "id": "446ad9ccd436475e",
   "metadata": {
    "ExecuteTime": {
     "end_time": "2024-03-20T18:58:04.226968900Z",
     "start_time": "2024-03-20T18:58:04.183210700Z"
    }
   },
   "outputs": [],
   "source": [
    "def plotMap(G, T=[], P=[], W=None,\n",
    "            style='r-o', lw=1, ms=3, \n",
    "            styleT='go', msT=5,\n",
    "            styleP='b-o', lwP=3, msP=1,\n",
    "            stylePT='go', msPT=7,\n",
    "            styleW='bo', msW=9,\n",
    "            text=None, grid=False):\n",
    "    fig = plt.gcf()\n",
    "    fig.set_size_inches(6, 6)\n",
    "    V, E = G\n",
    "\n",
    "    if not grid:\n",
    "        plt.axis('off')\n",
    "    plt.plot( [ p[0] for p in V ], [ p[1] for p in V ], 'ro', lw=lw, ms=ms)\n",
    "    for (p, q) in E:\n",
    "        plt.plot( [ p[0], q[0] ], [ p[1], q[1] ], 'r-o', lw=lw, ms=ms)\n",
    "    for t in T:\n",
    "        plt.plot( [ t[0] ], [ t[1] ], \n",
    "                  styleT, ms=msT)\n",
    "    plt.plot( [ p[0] for p in P ],\n",
    "              [ p[1] for p in P ], \n",
    "              styleP, lw=lwP, ms=msP)\n",
    "    for p in P:\n",
    "        if p in T:\n",
    "            plt.plot( [ p[0] ], [ p[1] ], \n",
    "                      stylePT, ms=msPT)\n",
    "    if W is not None:\n",
    "        plt.plot( [i for (i, j) in W], [j for (i, j) in W], \n",
    "                      styleW, ms=msW)\n",
    "    if text is not None:\n",
    "        maxX = max([p[0] for p in V])\n",
    "        plt.text(0.8*maxX, 0, text)\n",
    "    if grid:\n",
    "        plt.grid()\n",
    "    plt.show()"
   ]
  },
  {
   "cell_type": "markdown",
   "id": "5cdb964f948691ac",
   "metadata": {},
   "source": [
    "## Time Handling\n",
    "**Convention:** In this project we measure time in seconds. The simulation will start at 0:00. Time related methods will be added as they are needed.\n",
    "`timestamp(t)` generates a timestamp string in the form `[dd] hh:mm:ss.d`"
   ]
  },
  {
   "cell_type": "code",
   "execution_count": 6,
   "id": "e3dee3f42dac48ef",
   "metadata": {
    "ExecuteTime": {
     "end_time": "2024-03-20T18:58:04.231294600Z",
     "start_time": "2024-03-20T18:58:04.215110900Z"
    }
   },
   "outputs": [],
   "source": [
    "def timestamp(t):\n",
    "    day = int(t)//(24*3600)\n",
    "    t = t - day*24*3600\n",
    "    hour = int(t)//3600\n",
    "    t = t - hour*3600\n",
    "    mins = int(t)//60\n",
    "    t = t - mins*60\n",
    "    secs = int(math.floor(t))\n",
    "    t = int(math.floor((t - secs)*10))\n",
    "    return f\"[{day:2d}] {hour:02d}:{mins:02d}:{secs:02d}.{t:1d}\""
   ]
  },
  {
   "cell_type": "code",
   "execution_count": 7,
   "id": "66e8982cdb11f671",
   "metadata": {
    "ExecuteTime": {
     "end_time": "2024-03-20T18:58:04.242804900Z",
     "start_time": "2024-03-20T18:58:04.233319300Z"
    }
   },
   "outputs": [
    {
     "data": {
      "text/plain": [
       "'[ 3] 17:10:15.0'"
      ]
     },
     "execution_count": 7,
     "metadata": {},
     "output_type": "execute_result"
    }
   ],
   "source": [
    "timestamp(24*3600*3+17*3600+615.1)"
   ]
  },
  {
   "cell_type": "code",
   "execution_count": 8,
   "id": "841690d7efdcb901",
   "metadata": {
    "ExecuteTime": {
     "end_time": "2024-03-20T18:58:04.266945500Z",
     "start_time": "2024-03-20T18:58:04.245233500Z"
    }
   },
   "outputs": [],
   "source": [
    "def nextHour(env, hour):\n",
    "    beginningOfDay = int(env.now//(24*3600))*24*3600\n",
    "    timeOfDay = env.now-beginningOfDay\n",
    "    if hour*3600 > timeOfDay:\n",
    "        return hour*3600 - timeOfDay\n",
    "    else:\n",
    "        return hour*3600 + 24*3600 - timeOfDay"
   ]
  },
  {
   "cell_type": "code",
   "execution_count": 9,
   "id": "fd64a2b8b65e9b31",
   "metadata": {
    "ExecuteTime": {
     "end_time": "2024-03-20T18:58:04.267952400Z",
     "start_time": "2024-03-20T18:58:04.247617600Z"
    }
   },
   "outputs": [],
   "source": [
    "def day(now):\n",
    "    return int(now//(24*3600))"
   ]
  },
  {
   "cell_type": "markdown",
   "id": "58ca80d7b2f0705d",
   "metadata": {},
   "source": [
    "## Plotting Routines"
   ]
  },
  {
   "cell_type": "code",
   "execution_count": 10,
   "id": "590408b6e3ab62a4",
   "metadata": {
    "ExecuteTime": {
     "end_time": "2024-03-20T18:58:04.306350600Z",
     "start_time": "2024-03-20T18:58:04.268952500Z"
    }
   },
   "outputs": [],
   "source": [
    "import scipy.stats as stats\n",
    "\n",
    "\n",
    "def histplot(data, title=\"\", xlabel=\"\",\n",
    "             width=None, height=None):\n",
    "    minx = min(data)\n",
    "    maxx = max(data)\n",
    "    μ = np.mean(data)\n",
    "    σ = np.std(data)\n",
    "\n",
    "    fig = plt.figure()\n",
    "    fig.set_figwidth(width if width is not None else 4)\n",
    "    fig.set_figheight(height if height is not None else 2.5)\n",
    "    ax = fig.gca()\n",
    "\n",
    "    hist = plt.hist(data, density=True)\n",
    "    plt.xlabel(xlabel)\n",
    "    plt.ylabel('Density')\n",
    "    plt.title(title)\n",
    "\n",
    "    x = np.linspace(minx, maxx, 100)\n",
    "    y = [stats.norm(loc=μ, scale=σ).pdf(p) for p in x]\n",
    "    ax.plot(x, y, lw=1, color='red')\n",
    "    ax.axvline(x=μ, color='red')\n",
    "    maxy = max(max(y), max(hist[0]))\n",
    "    ax.text(maxx, maxy,\n",
    "            f'μ={μ:2.2f}\\nσ={σ:2.2f}',\n",
    "            ha='right', va='top',\n",
    "            color='red', fontsize=12)\n",
    "    ax.grid(True)\n",
    "    plt.show()"
   ]
  },
  {
   "cell_type": "code",
   "execution_count": 11,
   "id": "54fcb61df910a178",
   "metadata": {
    "ExecuteTime": {
     "end_time": "2024-03-20T18:58:04.309349900Z",
     "start_time": "2024-03-20T18:58:04.295278500Z"
    }
   },
   "outputs": [],
   "source": [
    "def dailyPlot(data,\n",
    "              title=\"\", ylabel=\"\",\n",
    "              width=None, height=None):\n",
    "    days = len(data)\n",
    "\n",
    "    fig = plt.figure()\n",
    "    fig.set_figwidth(width if width is not None else 6)\n",
    "    fig.set_figheight(height if height is not None else 2)\n",
    "\n",
    "    ax = fig.gca()\n",
    "    diff = (max(data) - min(data)) * 0.1\n",
    "    ymin = int(math.floor(min(data) - diff))\n",
    "    ymax = int(math.ceil(max(data) + diff))\n",
    "    ax.set_xlim(-1, days)\n",
    "    ax.set_ylim(ymin, ymax)\n",
    "    ax.grid(True)\n",
    "\n",
    "    ms = 2 if len(data) > 100 else 5\n",
    "    lw = 0.5 if len(data) > 100 else 1\n",
    "\n",
    "    x = np.arange(0, len(data))\n",
    "    y = np.array([y for y in data])\n",
    "    b, m = np.polynomial.polynomial.polyfit(x, y, 1)\n",
    "\n",
    "    plt.plot(x, y, 'bo-', linewidth=lw, markersize=ms)\n",
    "    plt.plot(x, m * x + b, 'r-')\n",
    "\n",
    "    plt.xlabel('Day')\n",
    "    plt.ylabel(ylabel)\n",
    "    plt.title(title)\n",
    "    plt.show()"
   ]
  },
  {
   "cell_type": "raw",
   "id": "d5447d45be6143df",
   "metadata": {},
   "source": []
  },
  {
   "cell_type": "markdown",
   "id": "b667d5da768b2e80",
   "metadata": {},
   "source": [
    "# Class Recorder\n",
    "\n",
    "We will use a class Recorder as a reference point for capturing data during the simulation.There will be only one recorder.It will be created at the beginning of every simulation run.Every entity will carry a reference to the Recorder."
   ]
  },
  {
   "cell_type": "code",
   "execution_count": 12,
   "id": "a7071d8730c20a6f",
   "metadata": {
    "ExecuteTime": {
     "end_time": "2024-03-20T18:58:04.335097300Z",
     "start_time": "2024-03-20T18:58:04.316351600Z"
    }
   },
   "outputs": [],
   "source": [
    "class Recorder:\n",
    "\n",
    "    def __init__(self, env, M, W, C, days,\n",
    "                 log=False, plot=False, timing=False):\n",
    "        self.env = env\n",
    "        self.M = M\n",
    "        self.W = W\n",
    "        self.C = C\n",
    "        self.days = days\n",
    "        self.log = log\n",
    "        self.plot = plot\n",
    "\n",
    "        self.timing = timing\n",
    "        self.start_time = time.time()\n",
    "        self.last_time = self.start_time\n",
    "        self.cum_timer = {}\n",
    "\n",
    "        Customer.REGISTER = []\n",
    "        Parcel.REGISTER = []\n",
    "\n",
    "        # create a data frame for records per working day\n",
    "        self.daily = pd.DataFrame()\n",
    "        self.daily['begin work at'] = [None] * days\n",
    "        self.daily['end work at'] = [None] * days\n",
    "        self.daily['dist'] = [None] * days\n",
    "        self.daily['left'] = [None] * days\n",
    "\n",
    "    def timer(self, s):\n",
    "        t = time.time()\n",
    "        Δt = t - self.last_time\n",
    "        if self.timing:\n",
    "            print(f\"==== t: {t - self.start_time:6.2f}s \"\n",
    "                  f\"Δt: {Δt:6.2f}s [{s:s}]\")\n",
    "        if s in self.cum_timer:\n",
    "            self.cum_timer[s] += Δt\n",
    "        else:\n",
    "            self.cum_timer[s] = Δt\n",
    "        self.last_time = t\n",
    "\n",
    "    def reportTimer(self):\n",
    "        print(f\"==== t: {self.total_time:6.2f}s Total\")\n",
    "        for k in sorted(self.cum_timer, key=lambda x: self.cum_timer[x], reverse=True):\n",
    "            print(f\"==== ΣΔt: {self.cum_timer[k]:6.2f}s \" + k)\n",
    "\n",
    "    def trace(self, event):\n",
    "        if self.log:\n",
    "            print(timestamp(self.env.now), event)\n",
    "\n",
    "    def recordDriverBeginsWork(self):\n",
    "        self.trace(\"Driver arrives for work\")\n",
    "        self.daily.at[day(self.env.now), 'begin work at'] = int(round(self.env.now))\n",
    "\n",
    "    def recordDriverEndsWork(self):\n",
    "        self.trace(\"Driver goes home\")\n",
    "        self.daily.at[day(self.env.now), 'end work at'] = int(round(self.env.now))\n",
    "\n",
    "    def recordTourLength(self, length):\n",
    "        self.daily.at[day(self.env.now), 'dist'] = int(length)\n",
    "\n",
    "    def recordParcelsLeftOver(self, numberOfParcels):\n",
    "        self.trace(f\"{numberOfParcels:d} left over for next day\")\n",
    "        self.daily.at[day(self.env.now), 'left'] = numberOfParcels\n",
    "\n",
    "    def finish(self):\n",
    "        # simulation is finished for good\n",
    "        # by removing the simulation environment we can\n",
    "        # pickle recorder\n",
    "        self.env = None\n",
    "        self.total_time = time.time() - self.start_time\n",
    "        self.daily['working time'] = (self.daily['end work at'] - self.daily['begin work at']) // 60\n",
    "\n",
    "    def __stats__(self, column):\n",
    "        d = self.daily[column].copy()\n",
    "        return d.mean(), d.median(), d.std()\n",
    "\n",
    "    def statsWorkingTime(self):\n",
    "        return self.__stats__('working time')\n",
    "\n",
    "    def histWorkingTime(self):\n",
    "        histplot(self.daily['working time'],\n",
    "                 xlabel='Working Time [min]',\n",
    "                 title='Daily Working Time')\n",
    "\n",
    "    def plotWorkingTime(self):\n",
    "        dailyPlot(self.daily['working time'],\n",
    "                  ylabel='Working Time [min]',\n",
    "                  title='Daily Working Time')\n",
    "\n",
    "    def statsTourLength(self):\n",
    "        return self.__stats__('dist')\n",
    "\n",
    "    def histTourLength(self):\n",
    "        histplot(self.daily['dist'],\n",
    "                 xlabel='Tour Length [m]',\n",
    "                 title='Daily Tour Length')\n",
    "\n",
    "    def plotTourLength(self):\n",
    "        dailyPlot(self.daily['dist'],\n",
    "                  ylabel='Tour Length [m]',\n",
    "                  title='Daily Tour Length')\n",
    "\n",
    "    def statsLeftOver(self):\n",
    "        return self.__stats__('left')\n",
    "\n",
    "    def histLeftOver(self):\n",
    "        histplot(self.daily['left'],\n",
    "                 xlabel='Left-Over Parcels',\n",
    "                 title='Daily Left-Over Parcels')\n",
    "\n",
    "    def plotLeftOver(self):\n",
    "        dailyPlot(self.daily['left'],\n",
    "                  ylabel='Number of Parcels',\n",
    "                  title='Daily Left-Over Parcels')"
   ]
  },
  {
   "cell_type": "code",
   "execution_count": 13,
   "id": "7c53404d1b0db4f6",
   "metadata": {
    "ExecuteTime": {
     "end_time": "2024-03-20T18:58:04.346308600Z",
     "start_time": "2024-03-20T18:58:04.329072700Z"
    }
   },
   "outputs": [],
   "source": [
    "class Parcel:\n",
    "    \n",
    "    REGISTER = []\n",
    "    \n",
    "    def __init__(self, rec, i, cust, custIndex):\n",
    "        self.rec = rec\n",
    "        self.i = i  # row index in data frames of input data\n",
    "        self.dest = cust.location\n",
    "        self.custIndex = custIndex\n",
    "        self.status = [ 'processing' ] # status record and\n",
    "        self.timing = [ self.rec.env.now ]      # timing\n",
    "        assert(len(Parcel.REGISTER)==i)\n",
    "        Parcel.REGISTER += [ self ] \n",
    "    \n",
    "    # factory method ensures that there is only\n",
    "    # one Parcel per location\n",
    "    def getParcel(rec, i, location, custIndex):\n",
    "        for p in Parcel.REGISTER:\n",
    "            if p.i == i:\n",
    "                return p\n",
    "        return Parcel(rec, i, location, custIndex)\n",
    "\n",
    "    \n",
    "    def __str__(self):\n",
    "        return f\"Parcel: {self.i:3d} ({self.custIndex:3d})\"\n",
    "\n",
    "    def index(self):\n",
    "        return self.i\n",
    "    \n",
    "    def destination(self):\n",
    "        return self.dest\n",
    "    \n",
    "    def __reg(self, state):\n",
    "        self.status += [ state ]\n",
    "        self.timing += [ self.rec.env.now ]\n",
    "        self.rec.trace(str(self)+\" \"+state)\n",
    "        \n",
    "    def arrivedAtDeliveryCentre(self):\n",
    "        self.__reg('arr at delivery centre')\n",
    "        \n",
    "    def outForDelivery(self): \n",
    "        self.__reg('out for delivery')\n",
    "        \n",
    "    def returnFromDelivery(self):\n",
    "        self.__reg('return from delivery')\n",
    "    "
   ]
  },
  {
   "cell_type": "code",
   "execution_count": 14,
   "id": "ee8ae95195bed352",
   "metadata": {
    "ExecuteTime": {
     "end_time": "2024-03-20T18:58:04.349396Z",
     "start_time": "2024-03-20T18:58:04.342255800Z"
    }
   },
   "outputs": [],
   "source": [
    "class Customer:\n",
    "    \n",
    "    REGISTER = []\n",
    "\n",
    "    def __init__(self, rec, location):\n",
    "        self.rec = rec\n",
    "        self.location = location\n",
    "        self.i = len(Customer.REGISTER)\n",
    "        Customer.REGISTER += [ self ]\n",
    "        self.atHome = True\n",
    "        self.answersDoor = False\n",
    "        self.parcelsReceived = []\n",
    "        rec.env.process(self.process())\n",
    "        \n",
    "    def __str__(self):\n",
    "        return f\"Customer: {self.i:2d} {str(self.location):s}\"\n",
    "    \n",
    "    # factory method ensures that there is only\n",
    "    # one customer per location\n",
    "    def getCustomer(rec, location):\n",
    "        for c in Customer.REGISTER:\n",
    "            if c.location == location:\n",
    "                return c\n",
    "        return Customer(rec, location)\n",
    "    \n",
    "    def leaveHouse(self):\n",
    "        assert(self.atHome and not self.answersDoor)\n",
    "        # self.rec.trace(str(self)+\" leaves house\")\n",
    "        self.atHome = False\n",
    "     \n",
    "    def returnHome(self):\n",
    "        assert(not self.atHome)\n",
    "        # self.rec.trace(str(self)+\" returns home\")\n",
    "        self.atHome = True\n",
    "        \n",
    "    def answerDoor(self):\n",
    "        if self.atHome:\n",
    "            yield self.rec.env.timeout(random.expovariate(1/AVERAGE_TIME_ANSWER_DOOR))\n",
    "            self.rec.trace(str(self)+\" answers door\")\n",
    "            self.answersDoor = True\n",
    "        else:\n",
    "            yield self.rec.env.timeout(WAIT_TIME_IF_CUSTOMER_DOESNT_ANSWER_DOOR)\n",
    "            self.rec(str(self)+\" not at home\")\n",
    "            \n",
    "    def acceptParcel(self, parcel):\n",
    "        assert(self.answersDoor)\n",
    "        self.parcelsReceived += [parcel]\n",
    "        self.rec.trace(str(self)+\" accepts \"+str(parcel))\n",
    "        \n",
    "    def signOff(self):\n",
    "        assert(self.answersDoor)\n",
    "        self.rec.trace(str(self)+\" signs off\")\n",
    "        self.answersDoor = False\n",
    "        \n",
    "    def process(self):\n",
    "        yield self.rec.env.timeout(nextHour(self.rec.env, 8))\n",
    "        while day(self.rec.env.now)<self.rec.days:\n",
    "            # in a refinement we may use random times\n",
    "            self.leaveHouse()\n",
    "            yield self.rec.env.timeout(nextHour(self.rec.env, 18))\n",
    "            self.returnHome()\n",
    "            yield self.rec.env.timeout(nextHour(self.rec.env, 8))"
   ]
  },
  {
   "cell_type": "markdown",
   "id": "1d70436efe37f73c",
   "metadata": {},
   "source": [
    "### Load Map data"
   ]
  },
  {
   "cell_type": "code",
   "execution_count": 15,
   "id": "26d3120206e62848",
   "metadata": {
    "ExecuteTime": {
     "end_time": "2024-03-20T18:58:04.381096500Z",
     "start_time": "2024-03-20T18:58:04.351398100Z"
    }
   },
   "outputs": [],
   "source": [
    "with open('data.pickled', 'rb') as f:\n",
    "    M, C = pickle.load(f)"
   ]
  },
  {
   "cell_type": "markdown",
   "id": "380e1ab3a741c659",
   "metadata": {},
   "source": [
    "### Load warehouse data"
   ]
  },
  {
   "cell_type": "code",
   "execution_count": 16,
   "id": "dedecc27f366da81",
   "metadata": {
    "ExecuteTime": {
     "end_time": "2024-03-20T18:58:04.401142800Z",
     "start_time": "2024-03-20T18:58:04.371528500Z"
    }
   },
   "outputs": [],
   "source": [
    "with open('warehouseData.pickle', 'rb') as f:\n",
    "    W = pickle.load(f)"
   ]
  },
  {
   "cell_type": "markdown",
   "id": "8976855162661e76",
   "metadata": {},
   "source": [
    "### Load Records data"
   ]
  },
  {
   "cell_type": "code",
   "execution_count": 17,
   "id": "2e2eb5148f13314c",
   "metadata": {
    "ExecuteTime": {
     "end_time": "2024-03-20T18:58:04.419572600Z",
     "start_time": "2024-03-20T18:58:04.403236500Z"
    }
   },
   "outputs": [],
   "source": [
    "with open('records.pickle', 'rb') as f:\n",
    "    rec = pickle.load(f)"
   ]
  },
  {
   "cell_type": "markdown",
   "id": "736516d96460c738",
   "metadata": {},
   "source": [
    "### Plotting maps"
   ]
  },
  {
   "cell_type": "code",
   "execution_count": 18,
   "id": "8ff43380c9d5b3ca",
   "metadata": {
    "ExecuteTime": {
     "end_time": "2024-03-20T18:58:04.523044300Z",
     "start_time": "2024-03-20T18:58:04.418418900Z"
    }
   },
   "outputs": [
    {
     "name": "stdout",
     "output_type": "stream",
     "text": [
      "Raw Map\n"
     ]
    },
    {
     "data": {
      "image/png": "[encoded data removed]",
      "text/plain": [
       "<Figure size 600x600 with 1 Axes>"
      ]
     },
     "metadata": {},
     "output_type": "display_data"
    }
   ],
   "source": [
    "print(\"Raw Map\")\n",
    "plotMap(M)"
   ]
  },
  {
   "cell_type": "code",
   "execution_count": 19,
   "id": "2d8fbba999de2a8a",
   "metadata": {
    "ExecuteTime": {
     "end_time": "2024-03-20T18:58:04.680019200Z",
     "start_time": "2024-03-20T18:58:04.514042Z"
    }
   },
   "outputs": [
    {
     "name": "stdout",
     "output_type": "stream",
     "text": [
      "Customer locations\n"
     ]
    },
    {
     "data": {
      "image/png": "[encoded data removed]",
      "text/plain": [
       "<Figure size 600x600 with 1 Axes>"
      ]
     },
     "metadata": {},
     "output_type": "display_data"
    }
   ],
   "source": [
    "print(\"Customer locations\")\n",
    "plotMap(M, T=C)"
   ]
  },
  {
   "cell_type": "code",
   "execution_count": 20,
   "id": "d1e3cb23ec39b1ee",
   "metadata": {
    "ExecuteTime": {
     "end_time": "2024-03-20T18:58:04.926886400Z",
     "start_time": "2024-03-20T18:58:04.672151600Z"
    }
   },
   "outputs": [
    {
     "name": "stdout",
     "output_type": "stream",
     "text": [
      "Candidate Warehouse locations\n"
     ]
    },
    {
     "data": {
      "image/png": "[encoded data removed]",
      "text/plain": [
       "<Figure size 600x600 with 1 Axes>"
      ]
     },
     "metadata": {},
     "output_type": "display_data"
    }
   ],
   "source": [
    "print(\"Candidate Warehouse locations\")\n",
    "plotMap(M, W=W)"
   ]
  },
  {
   "cell_type": "code",
   "execution_count": 21,
   "id": "fb0aa47fb45568e3",
   "metadata": {
    "ExecuteTime": {
     "end_time": "2024-03-20T18:58:05.081526100Z",
     "start_time": "2024-03-20T18:58:04.928334800Z"
    }
   },
   "outputs": [
    {
     "name": "stdout",
     "output_type": "stream",
     "text": [
      "Map with all customers and candidate Warehouses\n"
     ]
    },
    {
     "data": {
      "image/png": "[encoded data removed]",
      "text/plain": [
       "<Figure size 600x600 with 1 Axes>"
      ]
     },
     "metadata": {},
     "output_type": "display_data"
    }
   ],
   "source": [
    "print(\"Map with all customers and candidate Warehouses\")\n",
    "plotMap(M, T=C, W=W)"
   ]
  },
  {
   "cell_type": "code",
   "execution_count": 22,
   "id": "77209fa2c3198f37",
   "metadata": {
    "ExecuteTime": {
     "end_time": "2024-03-20T18:58:05.088054Z",
     "start_time": "2024-03-20T18:58:05.083485700Z"
    }
   },
   "outputs": [],
   "source": [
    "def calculate_operational_cost(R: Recorder):\n",
    "    average_working_time = R.statsWorkingTime()[0]\n",
    "    driver_cost = average_working_time * DRIVER_PAYMENT / 60\n",
    "    driver_cost = max(driver_cost, MINIMUM_DRIVER_PAYMENT)\n",
    "    \n",
    "    distance_travelled = R.statsTourLength()[0]\n",
    "    bike_cost = distance_travelled * OPERATIONAL_COST_BIKE / 1000\n",
    "    \n",
    "    total_cost = driver_cost + bike_cost\n",
    "    return total_cost"
   ]
  },
  {
   "cell_type": "code",
   "execution_count": 23,
   "id": "83ecff2335361b5c",
   "metadata": {
    "ExecuteTime": {
     "end_time": "2024-03-20T18:58:05.092183100Z",
     "start_time": "2024-03-20T18:58:05.088054Z"
    }
   },
   "outputs": [],
   "source": [
    "def plot_costs(costs):\n",
    "    plt.plot(costs)\n",
    "    plt.xlabel(\"Warehouse\")\n",
    "    plt.ylabel(\"Average operational cost (in €)\")\n",
    "    plt.show()"
   ]
  },
  {
   "cell_type": "code",
   "execution_count": 24,
   "id": "6707ddcf1977e55c",
   "metadata": {
    "ExecuteTime": {
     "end_time": "2024-03-20T18:58:05.176375900Z",
     "start_time": "2024-03-20T18:58:05.091179400Z"
    }
   },
   "outputs": [
    {
     "data": {
      "image/png": "[encoded data removed]",
      "text/plain": [
       "<Figure size 640x480 with 1 Axes>"
      ]
     },
     "metadata": {},
     "output_type": "display_data"
    }
   ],
   "source": [
    "costs = []\n",
    "for i in range(len(W)):\n",
    "    cost = calculate_operational_cost(rec[i])\n",
    "    costs.append(cost)\n",
    "plot_costs(costs)"
   ]
  },
  {
   "cell_type": "code",
   "execution_count": 25,
   "id": "71f3a539552460e7",
   "metadata": {
    "ExecuteTime": {
     "end_time": "2024-03-20T18:58:05.181459500Z",
     "start_time": "2024-03-20T18:58:05.173728100Z"
    }
   },
   "outputs": [],
   "source": [
    "def plot_map_best_location(costs):\n",
    "    minm = min(costs)\n",
    "    min_i = costs.index(minm)\n",
    "    \n",
    "    print(f\"The optimal warehouse is at {W[min_i]} with €{round(costs[min_i], 2)} average operational cost per day\")\n",
    "    \n",
    "    plotMap(M, T=C, W=[W[min_i]])"
   ]
  },
  {
   "cell_type": "code",
   "execution_count": 26,
   "id": "113221140c502b7c",
   "metadata": {
    "ExecuteTime": {
     "end_time": "2024-03-20T18:58:05.329993500Z",
     "start_time": "2024-03-20T18:58:05.177724100Z"
    }
   },
   "outputs": [
    {
     "name": "stdout",
     "output_type": "stream",
     "text": [
      "The optimal warehouse is at (4000, 7360) with €95.88 average operational cost per day\n"
     ]
    },
    {
     "data": {
      "image/png": "[encoded data removed]",
      "text/plain": [
       "<Figure size 600x600 with 1 Axes>"
      ]
     },
     "metadata": {},
     "output_type": "display_data"
    }
   ],
   "source": [
    "plot_map_best_location(costs)"
   ]
  },
  {
   "cell_type": "code",
   "execution_count": 27,
   "id": "ba4e4c170be0bcb3",
   "metadata": {
    "ExecuteTime": {
     "end_time": "2024-03-20T19:00:48.462211800Z",
     "start_time": "2024-03-20T19:00:48.448504500Z"
    }
   },
   "outputs": [
    {
     "name": "stdout",
     "output_type": "stream",
     "text": [
      "Mean Cost: 97.18724914285715\n",
      "Median Cost: 97.57474285714287\n",
      "Max Cost: 98.27661714285715\n",
      "Min Cost: 95.87867428571428\n",
      "Std Dev: 0.844014808869791\n"
     ]
    }
   ],
   "source": [
    "print(\"Mean Cost:\", np.mean(costs))\n",
    "print(\"Median Cost:\", np.median(costs))\n",
    "print(\"Max Cost:\", np.max(costs))\n",
    "print(\"Min Cost:\", np.min(costs))\n",
    "print(\"Std Dev:\", np.std(costs))"
   ]
  },
  {
   "cell_type": "code",
   "execution_count": 28,
   "id": "7a0c5895d4b74766",
   "metadata": {
    "ExecuteTime": {
     "end_time": "2024-03-20T19:50:47.577295700Z",
     "start_time": "2024-03-20T19:50:47.562798800Z"
    }
   },
   "outputs": [
    {
     "name": "stdout",
     "output_type": "stream",
     "text": [
      "F-statistic: 0.16908932363432988\n",
      "P-value: 0.9978229519103938\n",
      "No statistical significance\n"
     ]
    }
   ],
   "source": [
    "costs = []\n",
    "for i in range(len(rec)):\n",
    "    d = rec[i].daily['dist']\n",
    "    t = rec[i].daily['working time']\n",
    "    cost = []\n",
    "    for j in range(len(d)):\n",
    "        c = d[j] * OPERATIONAL_COST_BIKE / 1000\n",
    "        pc = t[j] * DRIVER_PAYMENT / 60\n",
    "        pc = max(pc, MINIMUM_DRIVER_PAYMENT)\n",
    "        c += pc\n",
    "        cost.append(c)\n",
    "    costs.append(cost)\n",
    "\n",
    "# ANOVA test\n",
    "f_statistic, p_value = f_oneway(costs[0], costs[1], costs[2], costs[3], costs[4], costs[4], costs[5], costs[6], costs[7], costs[8], costs[9])\n",
    "\n",
    "print(\"F-statistic:\", f_statistic)\n",
    "print(\"P-value:\", p_value)\n",
    "\n",
    "alpha = 0.05\n",
    "if p_value < alpha:\n",
    "    print(\"There is statistical significance\")\n",
    "else:\n",
    "    print(\"No statistical significance\")"
   ]
  },
  {
   "cell_type": "code",
   "execution_count": null,
   "id": "8083a4f41dcf74cc",
   "metadata": {},
   "outputs": [],
   "source": []
  }
 ],
 "metadata": {
  "kernelspec": {
   "display_name": "Python 3 (ipykernel)",
   "language": "python",
   "name": "python3"
  },
  "language_info": {
   "codemirror_mode": {
    "name": "ipython",
    "version": 3
   },
   "file_extension": ".py",
   "mimetype": "text/x-python",
   "name": "python",
   "nbconvert_exporter": "python",
   "pygments_lexer": "ipython3",
   "version": "3.11.4"
  }
 },
 "nbformat": 4,
 "nbformat_minor": 5
}
