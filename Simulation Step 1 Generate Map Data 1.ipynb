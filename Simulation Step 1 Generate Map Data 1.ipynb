{
 "cells": [
  {
   "cell_type": "code",
   "execution_count": 2,
   "id": "86e32ad9",
   "metadata": {
    "ExecuteTime": {
     "end_time": "2023-07-04T11:55:30.164805Z",
     "start_time": "2023-07-04T11:55:29.174321Z"
    }
   },
   "outputs": [],
   "source": [
    "import matplotlib.pyplot as plt\n",
    "import math\n",
    "import random\n",
    "import numpy as np"
   ]
  },
  {
   "cell_type": "markdown",
   "id": "db1b65cc",
   "metadata": {},
   "source": [
    "**Hints for students:** The utility section contains code you need to use *unchanged* to generate the test data required. You may use this code for your final solution, beware not to overwrite function definitions in this section. Otherwise you can ignore the code in this section."
   ]
  },
  {
   "cell_type": "markdown",
   "id": "6f364ca7",
   "metadata": {
    "heading_collapsed": true
   },
   "source": [
    "# Utilities"
   ]
  },
  {
   "cell_type": "markdown",
   "id": "0d618a29",
   "metadata": {
    "hidden": true
   },
   "source": [
    "**Note:** Section 1.1-1.4 is identical to the MST example (Week 3). 1.5-1.10 are adjustments of the data structures for the current problem. "
   ]
  },
  {
   "cell_type": "markdown",
   "id": "8027b3d2",
   "metadata": {
    "hidden": true
   },
   "source": [
    "## Points and Distances"
   ]
  },
  {
   "cell_type": "markdown",
   "id": "0827b248-8d3c-4b51-ae7b-9bf7270048d8",
   "metadata": {},
   "source": [
    "Euclidean Distance between two points"
   ]
  },
  {
   "cell_type": "code",
   "execution_count": 3,
   "id": "fdee6ad8",
   "metadata": {
    "ExecuteTime": {
     "end_time": "2023-07-04T11:55:30.171917Z",
     "start_time": "2023-07-04T11:55:30.169259Z"
    },
    "hidden": true
   },
   "outputs": [],
   "source": [
    "def dist(p1, p2):\n",
    "    (x1, y1) = p1\n",
    "    (x2, y2) = p2\n",
    "    return int(math.sqrt((x1-x2)**2+(y1-y2)**2))"
   ]
  },
  {
   "cell_type": "markdown",
   "id": "d4773bc7-c22e-45a3-8c2a-ce5c300980d4",
   "metadata": {},
   "source": [
    "The nearest link between two point sets"
   ]
  },
  {
   "cell_type": "code",
   "execution_count": 4,
   "id": "d68f6f97",
   "metadata": {
    "ExecuteTime": {
     "end_time": "2023-07-04T11:55:30.176728Z",
     "start_time": "2023-07-04T11:55:30.173920Z"
    },
    "hidden": true
   },
   "outputs": [],
   "source": [
    "def nearest(X, P):\n",
    "    minD = math.inf\n",
    "    minP = None\n",
    "    for p in P:\n",
    "        for x in X:\n",
    "            d=dist(x, p)\n",
    "            if d<minD:\n",
    "                minX, minP, minD = x, p, d\n",
    "    return minX, minP         "
   ]
  },
  {
   "cell_type": "markdown",
   "id": "3115ac70-a576-4da3-8c38-47cfcf46b466",
   "metadata": {},
   "source": [
    "## Graphs"
   ]
  },
  {
   "cell_type": "code",
   "execution_count": 5,
   "id": "0c8ee7e2",
   "metadata": {
    "ExecuteTime": {
     "end_time": "2023-07-04T11:55:30.181765Z",
     "start_time": "2023-07-04T11:55:30.177866Z"
    },
    "hidden": true
   },
   "outputs": [],
   "source": [
    "def generateRandomGraph(n, x0, y0, r):\n",
    "\n",
    "    def rounding(x):\n",
    "        return int(math.floor(x/10))*10\n",
    "\n",
    "    x0 = rounding(x0)\n",
    "    y0 = rounding(y0)\n",
    "    gridsize = rounding(r / math.sqrt(n) * 1.4)\n",
    "    r = int(math.floor(r/gridsize))*gridsize\n",
    "    split = int(2*r/gridsize)+1\n",
    "    X = np.linspace(x0-r, x0+r, split)\n",
    "    Y = np.linspace(y0-r, y0+r, split)\n",
    "    P = [ (int(x), int(y)) for x in X for y in Y if dist((x,y), (x0,y0)) < r ]\n",
    "    P = random.sample(P, k=n)\n",
    "    \n",
    "    E = []\n",
    "    \n",
    "    def addEdge(p, q):\n",
    "        if p in P and q in P and (p, q) not in E and (q, p) not in E:\n",
    "            E.append((p, q))\n",
    "    def addDiagonalEdge(p, q):\n",
    "        (xp, yp) = p\n",
    "        (xq, yq) = q\n",
    "        if p in P and q in P and (xp, yq) not in P and (xq, yp) not in P and (p, q) not in E and (q, p) not in E:\n",
    "            E.append((p, q))\n",
    "            \n",
    "    for (x, y) in P:\n",
    "        addEdge( (x, y), (x, y+gridsize) )\n",
    "        addEdge( (x, y), (x, y-gridsize) )\n",
    "        addEdge( (x, y), (x+gridsize, y) )\n",
    "        addEdge( (x, y), (x-gridsize, y) )\n",
    "        addDiagonalEdge( (x, y), (x+gridsize, y+gridsize) )\n",
    "        addDiagonalEdge( (x, y), (x+gridsize, y-gridsize) )\n",
    "        addDiagonalEdge( (x, y), (x-gridsize, y+gridsize) )\n",
    "        addDiagonalEdge( (x, y), (x-gridsize, y-gridsize) )\n",
    "        \n",
    "    return sorted(P), sorted(E)"
   ]
  },
  {
   "cell_type": "code",
   "execution_count": 6,
   "id": "a906e898-58d1-4e7e-89a6-cb3f05ab7969",
   "metadata": {},
   "outputs": [],
   "source": [
    "def plotGraph(P, E, col='b', grid=False):\n",
    "    fig = plt.gcf()\n",
    "    fig.set_size_inches(6, 6)\n",
    "    if not grid:\n",
    "        plt.axis('off')\n",
    "    plt.plot( [ p[0] for p in P ], [ p[1] for p in P ], col+'o', lw=1, ms=3)\n",
    "    for (p, q) in E:\n",
    "        plt.plot( [ p[0], q[0] ], [ p[1], q[1] ], col+'-o', lw=1, ms=3)\n",
    "    if grid:\n",
    "        plt.grid()"
   ]
  },
  {
   "cell_type": "code",
   "execution_count": 7,
   "id": "c8775ff5-107a-458a-9aa3-7620fa36d8e8",
   "metadata": {},
   "outputs": [
    {
     "data": {
      "image/png": "[encoded data removed]",
      "text/plain": [
       "<Figure size 600x600 with 1 Axes>"
      ]
     },
     "metadata": {},
     "output_type": "display_data"
    }
   ],
   "source": [
    "random.seed(9340)\n",
    "V, E = generateRandomGraph(100, 5000, 5000, 4500)\n",
    "plotGraph(V, E)"
   ]
  },
  {
   "cell_type": "markdown",
   "id": "d39924e8-71a1-4fb0-aaee-10d17bf89adf",
   "metadata": {},
   "source": [
    "The random generation may result in a graph consisting of multiple not connected subgraphs.\n",
    "Split a graph into not connected subgraphs, if any."
   ]
  },
  {
   "cell_type": "code",
   "execution_count": 8,
   "id": "9c572cfc-ecd8-4f5f-a236-b8aab63c3f56",
   "metadata": {},
   "outputs": [],
   "source": [
    "def subgraph(P, E):\n",
    "    P = P.copy()\n",
    "    E = E.copy()\n",
    "    PP = [ P[0] ] \n",
    "    EE = []\n",
    "    P = P[1:]\n",
    "    extended = True\n",
    "    while extended:\n",
    "        extended = False\n",
    "        for (a, b) in E:\n",
    "            if a in PP and b in P:\n",
    "                PP.append(b)\n",
    "                P.remove(b)\n",
    "                EE.append((a, b))\n",
    "                E.remove((a, b))\n",
    "                extended = True\n",
    "                break\n",
    "            if a in P and b in PP:\n",
    "                PP.append(a)\n",
    "                P.remove(a)\n",
    "                EE.append((a, b))\n",
    "                E.remove((a, b))\n",
    "                extended = True\n",
    "                break\n",
    "            if a in PP and b in PP:\n",
    "                EE.append((a, b))\n",
    "                E.remove((a, b))\n",
    "                extended = True\n",
    "                break\n",
    "    return PP, EE, P, E       "
   ]
  },
  {
   "cell_type": "code",
   "execution_count": 9,
   "id": "2ace15f0-b353-431c-b345-b1d53fee92b5",
   "metadata": {},
   "outputs": [],
   "source": [
    "def generateGraph(n, x0, y0, r):\n",
    "    P, E = generateRandomGraph(n, x0, y0, r)\n",
    "    P0, _, P1, _ = subgraph(P, E)\n",
    "    while len(P1)>0:\n",
    "        (p, q) = nearest(P0, P1)\n",
    "        E.append((p, q))\n",
    "        P0, _, P1, _ = subgraph(P, E)\n",
    "    return P, E"
   ]
  },
  {
   "cell_type": "code",
   "execution_count": 11,
   "id": "dc980805-471b-423a-824a-1ee75fcc67ad",
   "metadata": {},
   "outputs": [
    {
     "data": {
      "image/png": "[encoded data removed]",
      "text/plain": [
       "<Figure size 600x600 with 1 Axes>"
      ]
     },
     "metadata": {},
     "output_type": "display_data"
    }
   ],
   "source": [
    "random.seed(9340)\n",
    "V, E = generateRandomGraph(100, 5000, 5000, 4500)\n",
    "plotGraph(V, E)"
   ]
  },
  {
   "cell_type": "code",
   "execution_count": 12,
   "id": "190c8dc0-6260-41b7-9664-b23653c0b0ca",
   "metadata": {},
   "outputs": [
    {
     "data": {
      "image/png": "[encoded data removed]",
      "text/plain": [
       "<Figure size 600x600 with 1 Axes>"
      ]
     },
     "metadata": {},
     "output_type": "display_data"
    }
   ],
   "source": [
    "random.seed(9340)\n",
    "V, E = generateGraph(100, 5000, 5000, 4500)\n",
    "plotGraph(V, E)"
   ]
  },
  {
   "cell_type": "code",
   "execution_count": null,
   "id": "d29fac1a-40cd-4c47-8e1f-95ab2b6c5a41",
   "metadata": {},
   "outputs": [],
   "source": []
  },
  {
   "cell_type": "markdown",
   "id": "853eb5e3",
   "metadata": {
    "hidden": true
   },
   "source": [
    "## Lists and Paths"
   ]
  },
  {
   "cell_type": "code",
   "execution_count": 13,
   "id": "ad4896a5",
   "metadata": {
    "ExecuteTime": {
     "end_time": "2023-07-04T11:55:30.278886Z",
     "start_time": "2023-07-04T11:55:30.276462Z"
    },
    "hidden": true
   },
   "outputs": [],
   "source": [
    "def pathLength(P):\n",
    "    return 0 if len(P)<=1 else \\\n",
    "            dist(P[0], P[1])+pathLength(P[1:])"
   ]
  },
  {
   "cell_type": "code",
   "execution_count": 14,
   "id": "77c6090b",
   "metadata": {
    "ExecuteTime": {
     "end_time": "2023-07-04T11:55:30.282666Z",
     "start_time": "2023-07-04T11:55:30.280335Z"
    },
    "hidden": true
   },
   "outputs": [],
   "source": [
    "def reverse(P):\n",
    "    return [ P[-i] for i in range(1,len(P)+1) ]"
   ]
  },
  {
   "cell_type": "code",
   "execution_count": 15,
   "id": "340c2745",
   "metadata": {
    "ExecuteTime": {
     "end_time": "2023-07-04T11:55:30.286330Z",
     "start_time": "2023-07-04T11:55:30.283948Z"
    },
    "hidden": true
   },
   "outputs": [],
   "source": [
    "def index(x, L):\n",
    "    for i in range(len(L)):\n",
    "        if x==L[i]: \n",
    "            return i\n",
    "    return None"
   ]
  },
  {
   "cell_type": "code",
   "execution_count": 16,
   "id": "cad61c30",
   "metadata": {
    "ExecuteTime": {
     "end_time": "2023-07-04T11:55:30.289827Z",
     "start_time": "2023-07-04T11:55:30.287641Z"
    },
    "hidden": true
   },
   "outputs": [],
   "source": [
    "def addWithoutDuplicates(L, X):\n",
    "    for i in range(len(X)):\n",
    "        if X[i] not in L:\n",
    "            L.append(X[i])\n",
    "    return L"
   ]
  },
  {
   "cell_type": "markdown",
   "id": "2e7ff6b1",
   "metadata": {
    "hidden": true
   },
   "source": [
    "## Generate Customer Locations"
   ]
  },
  {
   "cell_type": "code",
   "execution_count": 17,
   "id": "058a6093",
   "metadata": {
    "ExecuteTime": {
     "end_time": "2023-07-04T11:55:30.307975Z",
     "start_time": "2023-07-04T11:55:30.304505Z"
    },
    "hidden": true
   },
   "outputs": [],
   "source": [
    "def splitEdgeRandomly(V, E, s):\n",
    "    A, B = s\n",
    "    p = random.uniform(0.3,0.7)\n",
    "    x = int(A[0]+p*(B[0]-A[0]))\n",
    "    y = int(A[1]+p*(B[1]-A[1]))\n",
    "    t = (x,y)\n",
    "    E.remove(s) \n",
    "    E.append((A, t))\n",
    "    E.append((t, B))\n",
    "    V.append(t)\n",
    "    return (V, E), t"
   ]
  },
  {
   "cell_type": "code",
   "execution_count": 18,
   "id": "b2764b70",
   "metadata": {
    "ExecuteTime": {
     "end_time": "2023-07-04T11:55:30.312520Z",
     "start_time": "2023-07-04T11:55:30.309193Z"
    },
    "hidden": true
   },
   "outputs": [],
   "source": [
    "def generateRandomTargets(V, E, n=5):\n",
    "    V, E = V.copy(), E.copy()\n",
    "    T = []\n",
    "    # we want to ensure that the beginning of the \n",
    "    # sequence of points generated randomly stays\n",
    "    # the same\n",
    "    mindist = 300\n",
    "    while len(T)<n:\n",
    "        s = random.choice(E)\n",
    "        A, B = s\n",
    "        if dist(A,B)>mindist: # avoid targets placed narrowly\n",
    "            (V, E), t = splitEdgeRandomly(V, E, s)\n",
    "            T.append(t)\n",
    "    return sorted(T)"
   ]
  },
  {
   "cell_type": "code",
   "execution_count": 19,
   "id": "62e1f971-04ed-4cb9-b5f5-fd6c8c8e1ba6",
   "metadata": {},
   "outputs": [],
   "source": [
    "def addTargets(M, T):\n",
    "    V, E = M\n",
    "    E = E.copy()\n",
    "    V = V.copy()\n",
    "    for t in T:\n",
    "        minD = math.inf\n",
    "        minE = None\n",
    "        for e in E:\n",
    "            P, Q = e\n",
    "            distT = dist(P, t)+dist(t, Q)-dist(P, Q)\n",
    "            if distT < minD:\n",
    "                minD = distT\n",
    "                minE = e\n",
    "        P, Q = minE\n",
    "        E.remove( (P, Q) )\n",
    "        E.append( (P, t) )\n",
    "        E.append( (t, Q) )\n",
    "        V.append(t)\n",
    "    return V, E"
   ]
  },
  {
   "cell_type": "markdown",
   "id": "88070187-a40e-4f57-a69b-a88408b5593c",
   "metadata": {},
   "source": [
    "## Generate Warehouse Locations"
   ]
  },
  {
   "cell_type": "code",
   "execution_count": 20,
   "id": "2ac94a04-ecd7-47b7-a4c4-931642e60879",
   "metadata": {},
   "outputs": [],
   "source": [
    "def generateWarehouseLocation(M):\n",
    "    V, _ = M\n",
    "    W = random.sample(V, k=1)[0]\n",
    "    return W"
   ]
  },
  {
   "cell_type": "code",
   "execution_count": 21,
   "id": "e3194939-2cb4-4331-862e-cfaba9d45b98",
   "metadata": {},
   "outputs": [],
   "source": [
    "def generateWarehouseLocations(M, seed=None):\n",
    "    if seed is not None:\n",
    "        random.seed(seed)\n",
    "    V, _ = M\n",
    "    W = random.sample(V, k=len(V)//10)\n",
    "    return W"
   ]
  },
  {
   "cell_type": "markdown",
   "id": "268c5569",
   "metadata": {
    "hidden": true
   },
   "source": [
    "## Plot Map with Delivery Route"
   ]
  },
  {
   "cell_type": "code",
   "execution_count": 22,
   "id": "f2f4ff62",
   "metadata": {
    "ExecuteTime": {
     "end_time": "2023-07-04T11:55:30.319958Z",
     "start_time": "2023-07-04T11:55:30.314018Z"
    },
    "hidden": true
   },
   "outputs": [],
   "source": [
    "def plotMap(G, T=[], P=[], W=None,\n",
    "            style='r-o', lw=1, ms=3, \n",
    "            styleT='go', msT=5,\n",
    "            styleP='b-o', lwP=3, msP=1,\n",
    "            stylePT='go', msPT=7,\n",
    "            styleW='bo', msW=7,\n",
    "            text=None, grid=False):\n",
    "    fig = plt.gcf()\n",
    "    fig.set_size_inches(10, 6)\n",
    "    V, E = G\n",
    "\n",
    "    if not grid:\n",
    "        plt.axis('on')\n",
    "    plt.plot( [ p[0] for p in V ], [ p[1] for p in V ], 'ro', lw=lw, ms=ms)\n",
    "    for (p, q) in E:\n",
    "        plt.plot( [ p[0], q[0] ], [ p[1], q[1] ], 'r-o', lw=lw, ms=ms)\n",
    "    for t in T:\n",
    "        plt.plot( [ t[0] ], [ t[1] ], \n",
    "                  styleT, ms=msT)\n",
    "    plt.plot( [ p[0] for p in P ],[ p[1] for p in P ], styleP, lw=lwP, ms=msP)\n",
    "              \n",
    "              \n",
    "    for p in P:\n",
    "        if p in T:\n",
    "            plt.plot( [ p[0] ], [ p[1] ], \n",
    "                      stylePT, ms=msPT)\n",
    "    if W is not None:\n",
    "        for w in W:\n",
    "            plt.plot([w[0]], [w[1]], styleW, ms=msW)\n",
    "        \n",
    "                      \n",
    "    if text is not None:\n",
    "        minX = min([p[0] for p in V])\n",
    "        plt.text(minX, 0, text)\n",
    "    if grid:\n",
    "        plt.grid()\n",
    "    plt.show()"
   ]
  },
  {
   "cell_type": "code",
   "execution_count": null,
   "id": "6a7b0c96",
   "metadata": {},
   "outputs": [],
   "source": []
  },
  {
   "cell_type": "code",
   "execution_count": null,
   "id": "01f5048f",
   "metadata": {},
   "outputs": [],
   "source": []
  },
  {
   "cell_type": "markdown",
   "id": "0d5c12ac",
   "metadata": {
    "hidden": true
   },
   "source": [
    "## Generate Data"
   ]
  },
  {
   "cell_type": "code",
   "execution_count": 23,
   "id": "6158d92c",
   "metadata": {
    "ExecuteTime": {
     "end_time": "2023-07-04T11:55:30.328123Z",
     "start_time": "2023-07-04T11:55:30.321217Z"
    },
    "hidden": true
   },
   "outputs": [],
   "source": [
    "def generateData(seed=None, nodes=100, customers=150, \n",
    "                 plot=False, log=False):\n",
    "\n",
    "    if seed is None:\n",
    "\n",
    "        print(\"Usage:  M, C = generateData(seed=None, \")\n",
    "        print(\"                            nodes=100, customers=50, \")\n",
    "        print(\"                            plot=False, log=False)\")\n",
    "        print(\"\")\n",
    "        print(\"  seed  the seed value to be used for data generation. \")\n",
    "        print(\"        To test the application use seed=0, it will create\")\n",
    "        print(\"        a small map, with a very few customer locations and\")\n",
    "        print(\"        a small set of delivery data.\")\n",
    "        print(\"\")\n",
    "        print(\"  nodes the number of intersections (vertices) in the generated map\")\n",
    "        print(\"\")\n",
    "        print(\"  customers  the number of customers generated on the map\")\n",
    "        print(\"\")\n",
    "        print(\"  log   Controls print output during data generation.\")\n",
    "        print(\"\")\n",
    "        print(\"  plot  Controls graphical output during data generation.\")\n",
    "        print(\"\")\n",
    "        print(\"Returns:\")\n",
    "        print(\"\")\n",
    "        print(\"  M = (V, E) is the generated map given as a graph\")\n",
    "        print(\"    where V is a list of vertices, with each vertice \")\n",
    "        print(\"    given as a pair (x, y) of integer coordinates, \")\n",
    "        print(\"    and E is a list of edges, with each edge given\")\n",
    "        print(\"    as a pair (A, B) of vertices, with each vertex again\")\n",
    "        print(\"    given as a pair (x, y) of integer coordinates\")\n",
    "        print(\"\")\n",
    "        # print(\"  W ∈ V  is the location of the distribution warehouse\")\n",
    "        # print(\"    given as a pair (x, y) of integer coordinates\")\n",
    "        # print(\"\")\n",
    "        print(\"  C is a list of customer locations\")\n",
    "        print(\"    given as pairs (x, y) of integer coordinates on or near\")\n",
    "        print(\"    existing edges E. To integrate a set of customer locations\")\n",
    "        print(\"    into a given map M = (V, E), use addTarget(M, C)\")\n",
    "        print(\"\")\n",
    "        \n",
    "        seed = 0\n",
    "    \n",
    "    if seed==0:          # generate very simple test data \n",
    "        nodes = 20       # number of points in map\n",
    "        customers = 5    # number of  customers\n",
    "        grid = True\n",
    "            \n",
    "    else:\n",
    "        grid = False\n",
    "        \n",
    "    random.seed(seed)\n",
    "    \n",
    "    V, E = generateGraph(nodes, 4000, 4000, 4000)\n",
    "    \n",
    "    C = generateRandomTargets(V, E, customers)\n",
    "\n",
    "    if log:\n",
    "        print(f\"Generated map with {nodes:d} nodes and \" \n",
    "              f\"{customers:d} customer locations\")\n",
    "    if plot:\n",
    "        label=\"\" if seed==0 else f\"seed={seed:4d}\"\n",
    "        plotMap((V, E), T=C, text=label, grid=grid)\n",
    "    \n",
    "    return (V, E), C"
   ]
  },
  {
   "cell_type": "markdown",
   "id": "5d46ca18",
   "metadata": {
    "hidden": true
   },
   "source": [
    "Data Generation is reproducible"
   ]
  },
  {
   "cell_type": "code",
   "execution_count": null,
   "id": "0dd70057",
   "metadata": {
    "ExecuteTime": {
     "end_time": "2023-07-04T11:55:30.446019Z",
     "start_time": "2023-07-04T11:55:30.329224Z"
    },
    "hidden": true
   },
   "outputs": [],
   "source": []
  },
  {
   "cell_type": "markdown",
   "id": "55e44e50",
   "metadata": {},
   "source": [
    "# Generating Data"
   ]
  },
  {
   "cell_type": "markdown",
   "id": "eb2a82f1",
   "metadata": {},
   "source": [
    "This section demonstrates how you can generate the test data for the problem."
   ]
  },
  {
   "cell_type": "markdown",
   "id": "c6053dfa",
   "metadata": {},
   "source": [
    "## General Help Message"
   ]
  },
  {
   "cell_type": "markdown",
   "id": "d41f9809",
   "metadata": {},
   "source": [
    "If you use `generateData()` without any parameters you will get a general help message."
   ]
  },
  {
   "cell_type": "code",
   "execution_count": null,
   "id": "a93a491b",
   "metadata": {
    "ExecuteTime": {
     "end_time": "2023-07-04T11:55:30.451621Z",
     "start_time": "2023-07-04T11:55:30.447303Z"
    }
   },
   "outputs": [],
   "source": []
  },
  {
   "cell_type": "markdown",
   "id": "1a082b84",
   "metadata": {},
   "source": [
    "## Analysing Simple Test Data"
   ]
  },
  {
   "cell_type": "markdown",
   "id": "e62768fa",
   "metadata": {},
   "source": [
    "This section illustrates the data structure generated."
   ]
  },
  {
   "cell_type": "code",
   "execution_count": null,
   "id": "4e31f76a",
   "metadata": {
    "ExecuteTime": {
     "end_time": "2023-07-04T11:55:30.580237Z",
     "start_time": "2023-07-04T11:55:30.452866Z"
    }
   },
   "outputs": [],
   "source": []
  },
  {
   "cell_type": "code",
   "execution_count": null,
   "id": "267d75d0",
   "metadata": {
    "ExecuteTime": {
     "end_time": "2023-07-04T11:55:30.585775Z",
     "start_time": "2023-07-04T11:55:30.581868Z"
    }
   },
   "outputs": [],
   "source": []
  },
  {
   "cell_type": "code",
   "execution_count": null,
   "id": "ec36f565",
   "metadata": {
    "ExecuteTime": {
     "end_time": "2023-07-04T11:55:30.589162Z",
     "start_time": "2023-07-04T11:55:30.587097Z"
    }
   },
   "outputs": [],
   "source": []
  },
  {
   "cell_type": "markdown",
   "id": "598c0540",
   "metadata": {},
   "source": [
    "### The Graph"
   ]
  },
  {
   "cell_type": "markdown",
   "id": "6f517000",
   "metadata": {},
   "source": [
    "You can identify the points in the grid above. The vertices of the graph are:"
   ]
  },
  {
   "cell_type": "code",
   "execution_count": null,
   "id": "1505220e",
   "metadata": {
    "ExecuteTime": {
     "end_time": "2023-07-04T11:55:30.593631Z",
     "start_time": "2023-07-04T11:55:30.590366Z"
    }
   },
   "outputs": [],
   "source": []
  },
  {
   "cell_type": "markdown",
   "id": "e4246e46-1a4b-4ee6-96a7-f69198aa41a9",
   "metadata": {},
   "source": [
    "The edges of the graph are:"
   ]
  },
  {
   "cell_type": "code",
   "execution_count": null,
   "id": "d39b1069",
   "metadata": {
    "ExecuteTime": {
     "end_time": "2023-07-04T11:55:30.598693Z",
     "start_time": "2023-07-04T11:55:30.594671Z"
    }
   },
   "outputs": [],
   "source": []
  },
  {
   "cell_type": "markdown",
   "id": "a7ff4dc0",
   "metadata": {},
   "source": [
    "### Customer Addresses"
   ]
  },
  {
   "cell_type": "markdown",
   "id": "28e950b3",
   "metadata": {},
   "source": [
    "The customer addresses (green dots in the map) are:"
   ]
  },
  {
   "cell_type": "code",
   "execution_count": null,
   "id": "e229adea",
   "metadata": {
    "ExecuteTime": {
     "end_time": "2023-07-04T11:55:30.602368Z",
     "start_time": "2023-07-04T11:55:30.599817Z"
    }
   },
   "outputs": [],
   "source": []
  },
  {
   "cell_type": "markdown",
   "id": "e32c2004-c3f4-444a-87a7-8c530245597f",
   "metadata": {},
   "source": [
    "### The Warehouse Address"
   ]
  },
  {
   "cell_type": "markdown",
   "id": "f02183fc-037c-42e3-9ba6-394786ce6716",
   "metadata": {},
   "source": [
    "Warehouses should be located on or near an intersection on the map.\n",
    "To generate a warehouse address use:"
   ]
  },
  {
   "cell_type": "code",
   "execution_count": null,
   "id": "b5f31a7e-1f32-4f13-b700-7a8fea2c9e17",
   "metadata": {},
   "outputs": [],
   "source": []
  },
  {
   "cell_type": "code",
   "execution_count": null,
   "id": "83da3df2-7f7f-4855-9ad3-bbb2cf637b9a",
   "metadata": {},
   "outputs": [],
   "source": []
  },
  {
   "cell_type": "code",
   "execution_count": null,
   "id": "501b96c9-f3df-4409-a7a5-d34042956c00",
   "metadata": {},
   "outputs": [],
   "source": []
  },
  {
   "cell_type": "markdown",
   "id": "976ca9d4",
   "metadata": {},
   "source": [
    "## Real Sample Data"
   ]
  },
  {
   "cell_type": "markdown",
   "id": "f7f8d163",
   "metadata": {},
   "source": [
    "This section shows sample data as you you may get them for your required simulation. "
   ]
  },
  {
   "cell_type": "code",
   "execution_count": null,
   "id": "e491ef3a",
   "metadata": {
    "ExecuteTime": {
     "end_time": "2023-07-04T11:55:30.936103Z",
     "start_time": "2023-07-04T11:55:30.603565Z"
    }
   },
   "outputs": [],
   "source": []
  },
  {
   "cell_type": "markdown",
   "id": "b7bdb541",
   "metadata": {},
   "source": [
    "Save sample data as pickle file:"
   ]
  },
  {
   "cell_type": "code",
   "execution_count": null,
   "id": "cc4156ed",
   "metadata": {
    "ExecuteTime": {
     "end_time": "2023-07-04T11:55:30.940374Z",
     "start_time": "2023-07-04T11:55:30.937437Z"
    }
   },
   "outputs": [],
   "source": []
  },
  {
   "cell_type": "code",
   "execution_count": null,
   "id": "c643e76f-6d01-410e-9890-2cac8b13b0c8",
   "metadata": {},
   "outputs": [],
   "source": []
  },
  {
   "cell_type": "code",
   "execution_count": null,
   "id": "c325f014-bc4a-4afc-b8db-3dbf00bc208a",
   "metadata": {},
   "outputs": [],
   "source": []
  },
  {
   "cell_type": "code",
   "execution_count": 25,
   "id": "c5c1d7eb",
   "metadata": {
    "ExecuteTime": {
     "end_time": "2023-07-04T12:55:17.629724Z",
     "start_time": "2023-07-04T12:55:17.416826Z"
    }
   },
   "outputs": [
    {
     "name": "stdout",
     "output_type": "stream",
     "text": [
      "Generated map with 100 nodes and 150 customer locations\n"
     ]
    },
    {
     "data": {
      "image/png": "[encoded data removed]",
      "text/plain": [
       "<Figure size 1000x600 with 1 Axes>"
      ]
     },
     "metadata": {},
     "output_type": "display_data"
    }
   ],
   "source": [
    "myData = generateData(9340, nodes=100, customers=150, plot=True, log=True)"
   ]
  },
  {
   "cell_type": "code",
   "execution_count": null,
   "id": "3b7da9c5",
   "metadata": {
    "ExecuteTime": {
     "end_time": "2023-07-04T11:55:31.185816Z",
     "start_time": "2023-07-04T11:55:31.182490Z"
    }
   },
   "outputs": [],
   "source": []
  },
  {
   "cell_type": "code",
   "execution_count": 26,
   "id": "26b20252",
   "metadata": {},
   "outputs": [],
   "source": [
    "M, C = myData"
   ]
  },
  {
   "cell_type": "code",
   "execution_count": 27,
   "id": "6f52084b",
   "metadata": {},
   "outputs": [
    {
     "data": {
      "text/plain": [
       "[(640, 2320),\n",
       " (640, 2880),\n",
       " (640, 4000),\n",
       " (640, 4560),\n",
       " (640, 5120),\n",
       " (1200, 3440),\n",
       " (1200, 4000),\n",
       " (1200, 4560),\n",
       " (1200, 5120),\n",
       " (1760, 1200),\n",
       " (1760, 2320),\n",
       " (1760, 4000),\n",
       " (1760, 4560),\n",
       " (1760, 5120),\n",
       " (1760, 5680),\n",
       " (1760, 6240),\n",
       " (2320, 640),\n",
       " (2320, 1200),\n",
       " (2320, 2320),\n",
       " (2320, 2880),\n",
       " (2320, 3440),\n",
       " (2320, 4000),\n",
       " (2320, 4560),\n",
       " (2320, 5120),\n",
       " (2320, 6240),\n",
       " (2320, 6800),\n",
       " (2320, 7360),\n",
       " (2880, 640),\n",
       " (2880, 1200),\n",
       " (2880, 1760),\n",
       " (2880, 2320),\n",
       " (2880, 2880),\n",
       " (2880, 3440),\n",
       " (2880, 4000),\n",
       " (2880, 4560),\n",
       " (2880, 5120),\n",
       " (2880, 5680),\n",
       " (2880, 6240),\n",
       " (2880, 6800),\n",
       " (2880, 7360),\n",
       " (3440, 640),\n",
       " (3440, 2320),\n",
       " (3440, 2880),\n",
       " (3440, 3440),\n",
       " (3440, 5120),\n",
       " (3440, 5680),\n",
       " (3440, 7360),\n",
       " (4000, 1760),\n",
       " (4000, 2880),\n",
       " (4000, 3440),\n",
       " (4000, 5120),\n",
       " (4000, 5680),\n",
       " (4000, 6240),\n",
       " (4000, 6800),\n",
       " (4000, 7360),\n",
       " (4560, 640),\n",
       " (4560, 1760),\n",
       " (4560, 2320),\n",
       " (4560, 2880),\n",
       " (4560, 3440),\n",
       " (4560, 4560),\n",
       " (4560, 5680),\n",
       " (4560, 6800),\n",
       " (4560, 7360),\n",
       " (5120, 1200),\n",
       " (5120, 1760),\n",
       " (5120, 2880),\n",
       " (5120, 3440),\n",
       " (5120, 4000),\n",
       " (5120, 4560),\n",
       " (5120, 6800),\n",
       " (5120, 7360),\n",
       " (5680, 640),\n",
       " (5680, 1760),\n",
       " (5680, 2320),\n",
       " (5680, 2880),\n",
       " (5680, 3440),\n",
       " (5680, 5680),\n",
       " (5680, 6240),\n",
       " (5680, 7360),\n",
       " (6240, 1760),\n",
       " (6240, 2880),\n",
       " (6240, 3440),\n",
       " (6240, 4560),\n",
       " (6240, 5120),\n",
       " (6240, 5680),\n",
       " (6240, 6800),\n",
       " (6800, 1760),\n",
       " (6800, 2880),\n",
       " (6800, 3440),\n",
       " (6800, 4000),\n",
       " (6800, 4560),\n",
       " (6800, 6240),\n",
       " (7360, 2320),\n",
       " (7360, 2880),\n",
       " (7360, 3440),\n",
       " (7360, 4000),\n",
       " (7360, 4560),\n",
       " (7360, 5120),\n",
       " (7360, 5680)]"
      ]
     },
     "execution_count": 27,
     "metadata": {},
     "output_type": "execute_result"
    }
   ],
   "source": [
    "V, E = M\n",
    "V"
   ]
  },
  {
   "cell_type": "code",
   "execution_count": 28,
   "id": "36200067",
   "metadata": {},
   "outputs": [
    {
     "data": {
      "text/plain": [
       "[((640, 2320), (640, 2880)),\n",
       " ((640, 2880), (1200, 3440)),\n",
       " ((640, 4560), (640, 4000)),\n",
       " ((640, 4560), (1200, 4560)),\n",
       " ((640, 5120), (640, 4560)),\n",
       " ((1200, 4000), (640, 4000)),\n",
       " ((1200, 4000), (1200, 3440)),\n",
       " ((1200, 4000), (1200, 4560)),\n",
       " ((1200, 4000), (1760, 4000)),\n",
       " ((1200, 4560), (1760, 4560)),\n",
       " ((1200, 5120), (640, 5120)),\n",
       " ((1200, 5120), (1200, 4560)),\n",
       " ((1200, 5120), (1760, 5120)),\n",
       " ((1760, 1200), (2320, 1200)),\n",
       " ((1760, 2320), (2320, 2320)),\n",
       " ((1760, 4000), (1760, 4560)),\n",
       " ((1760, 5120), (1760, 4560)),\n",
       " ((1760, 5120), (2320, 5120)),\n",
       " ((1760, 5680), (1760, 5120)),\n",
       " ((1760, 5680), (1760, 6240)),\n",
       " ((2320, 640), (2320, 1200)),\n",
       " ((2320, 640), (2880, 640)),\n",
       " ((2320, 2320), (2880, 2320)),\n",
       " ((2320, 2880), (2320, 2320)),\n",
       " ((2320, 3440), (2320, 2880)),\n",
       " ((2320, 3440), (2320, 4000)),\n",
       " ((2320, 3440), (2880, 3440)),\n",
       " ((2320, 4000), (1760, 4000)),\n",
       " ((2320, 4000), (2880, 4000)),\n",
       " ((2320, 4560), (1760, 4560)),\n",
       " ((2320, 4560), (2320, 4000)),\n",
       " ((2320, 4560), (2320, 5120)),\n",
       " ((2320, 4560), (2880, 4560)),\n",
       " ((2320, 6240), (1760, 6240)),\n",
       " ((2320, 6800), (2320, 6240)),\n",
       " ((2320, 6800), (2320, 7360)),\n",
       " ((2320, 6800), (2880, 6800)),\n",
       " ((2320, 7360), (2880, 7360)),\n",
       " ((2880, 640), (2880, 1200)),\n",
       " ((2880, 640), (3440, 640)),\n",
       " ((2880, 1200), (2320, 1200)),\n",
       " ((2880, 1200), (2880, 1760)),\n",
       " ((2880, 2320), (2880, 1760)),\n",
       " ((2880, 2880), (2320, 2880)),\n",
       " ((2880, 2880), (2880, 2320)),\n",
       " ((2880, 2880), (2880, 3440)),\n",
       " ((2880, 2880), (3440, 2880)),\n",
       " ((2880, 3440), (3440, 3440)),\n",
       " ((2880, 4000), (2880, 3440)),\n",
       " ((2880, 4560), (2880, 4000)),\n",
       " ((2880, 4560), (2880, 5120)),\n",
       " ((2880, 5120), (2320, 5120)),\n",
       " ((2880, 5680), (2880, 5120)),\n",
       " ((2880, 6240), (2320, 6240)),\n",
       " ((2880, 6240), (2880, 5680)),\n",
       " ((2880, 6240), (2880, 6800)),\n",
       " ((2880, 6800), (2880, 7360)),\n",
       " ((2880, 7360), (3440, 7360)),\n",
       " ((3440, 2320), (2880, 2320)),\n",
       " ((3440, 2320), (3440, 2880)),\n",
       " ((3440, 2320), (4000, 1760)),\n",
       " ((3440, 2880), (3440, 3440)),\n",
       " ((3440, 2880), (4000, 2880)),\n",
       " ((3440, 5120), (2880, 5120)),\n",
       " ((3440, 5680), (2880, 5680)),\n",
       " ((3440, 5680), (3440, 5120)),\n",
       " ((3440, 5680), (4000, 5680)),\n",
       " ((4000, 2880), (4000, 3440)),\n",
       " ((4000, 2880), (4560, 2880)),\n",
       " ((4000, 3440), (3440, 3440)),\n",
       " ((4000, 5120), (3440, 5120)),\n",
       " ((4000, 5120), (4000, 5680)),\n",
       " ((4000, 6240), (4000, 5680)),\n",
       " ((4000, 6240), (4000, 6800)),\n",
       " ((4000, 7360), (3440, 7360)),\n",
       " ((4000, 7360), (4000, 6800)),\n",
       " ((4560, 640), (5120, 1200)),\n",
       " ((4560, 1760), (4000, 1760)),\n",
       " ((4560, 1760), (5120, 1760)),\n",
       " ((4560, 2320), (4560, 1760)),\n",
       " ((4560, 2320), (4560, 2880)),\n",
       " ((4560, 2880), (5120, 2880)),\n",
       " ((4560, 3440), (4000, 3440)),\n",
       " ((4560, 3440), (4560, 2880)),\n",
       " ((4560, 3440), (5120, 3440)),\n",
       " ((4560, 4560), (4000, 5120)),\n",
       " ((4560, 4560), (5120, 4560)),\n",
       " ((4560, 5680), (4000, 5680)),\n",
       " ((4560, 6800), (4000, 6800)),\n",
       " ((4560, 7360), (4000, 7360)),\n",
       " ((4560, 7360), (4560, 6800)),\n",
       " ((4560, 7360), (5120, 7360)),\n",
       " ((5120, 1200), (5120, 1760)),\n",
       " ((5120, 3440), (5120, 2880)),\n",
       " ((5120, 3440), (5680, 3440)),\n",
       " ((5120, 4000), (5120, 3440)),\n",
       " ((5120, 4000), (5120, 4560)),\n",
       " ((5120, 6800), (4560, 6800)),\n",
       " ((5120, 6800), (5120, 7360)),\n",
       " ((5120, 6800), (5680, 6240)),\n",
       " ((5680, 640), (5120, 1200)),\n",
       " ((5680, 1760), (5120, 1760)),\n",
       " ((5680, 2320), (5680, 1760)),\n",
       " ((5680, 2320), (5680, 2880)),\n",
       " ((5680, 2880), (5120, 2880)),\n",
       " ((5680, 2880), (5680, 3440)),\n",
       " ((5680, 5680), (6240, 5680)),\n",
       " ((5680, 6240), (5680, 5680)),\n",
       " ((5680, 6240), (6240, 6800)),\n",
       " ((5680, 7360), (5120, 7360)),\n",
       " ((6240, 1760), (5680, 1760)),\n",
       " ((6240, 1760), (6800, 1760)),\n",
       " ((6240, 2880), (5680, 2880)),\n",
       " ((6240, 2880), (6240, 3440)),\n",
       " ((6240, 2880), (6800, 2880)),\n",
       " ((6240, 3440), (5680, 3440)),\n",
       " ((6240, 3440), (6800, 3440)),\n",
       " ((6240, 4560), (6800, 4560)),\n",
       " ((6240, 5120), (6240, 4560)),\n",
       " ((6240, 5120), (6240, 5680)),\n",
       " ((6240, 6800), (5680, 7360)),\n",
       " ((6800, 1760), (7360, 2320)),\n",
       " ((6800, 3440), (6800, 2880)),\n",
       " ((6800, 4000), (6800, 3440)),\n",
       " ((6800, 4000), (6800, 4560)),\n",
       " ((6800, 6240), (6240, 5680)),\n",
       " ((6800, 6240), (6240, 6800)),\n",
       " ((6800, 6240), (7360, 5680)),\n",
       " ((7360, 2880), (6800, 2880)),\n",
       " ((7360, 2880), (7360, 2320)),\n",
       " ((7360, 2880), (7360, 3440)),\n",
       " ((7360, 3440), (6800, 3440)),\n",
       " ((7360, 4000), (6800, 4000)),\n",
       " ((7360, 4000), (7360, 3440)),\n",
       " ((7360, 4000), (7360, 4560)),\n",
       " ((7360, 4560), (6800, 4560)),\n",
       " ((7360, 4560), (7360, 5120)),\n",
       " ((7360, 5680), (7360, 5120))]"
      ]
     },
     "execution_count": 28,
     "metadata": {},
     "output_type": "execute_result"
    }
   ],
   "source": [
    "E"
   ]
  },
  {
   "cell_type": "code",
   "execution_count": 29,
   "id": "dcb2df4e",
   "metadata": {},
   "outputs": [
    {
     "data": {
      "text/plain": [
       "[(640, 2564),\n",
       " (640, 2708),\n",
       " (640, 4216),\n",
       " (640, 4336),\n",
       " (752, 2992),\n",
       " (833, 4000),\n",
       " (939, 5120),\n",
       " (952, 4000),\n",
       " (961, 3201),\n",
       " (1200, 3695),\n",
       " (1200, 4173),\n",
       " (1200, 4797),\n",
       " (1200, 4932),\n",
       " (1466, 4000),\n",
       " (1490, 5120),\n",
       " (1591, 4000),\n",
       " (1760, 4226),\n",
       " (1760, 5319),\n",
       " (1760, 5565),\n",
       " (1760, 5886),\n",
       " (1760, 6054),\n",
       " (1871, 4560),\n",
       " (1967, 5120),\n",
       " (1995, 6240),\n",
       " (2010, 2320),\n",
       " (2030, 4000),\n",
       " (2090, 4560),\n",
       " (2126, 2320),\n",
       " (2217, 6240),\n",
       " (2320, 2503),\n",
       " (2320, 2669),\n",
       " (2320, 3207),\n",
       " (2320, 4217),\n",
       " (2320, 4432),\n",
       " (2320, 4756),\n",
       " (2320, 6492),\n",
       " (2320, 7047),\n",
       " (2320, 7259),\n",
       " (2526, 1200),\n",
       " (2548, 2880),\n",
       " (2549, 7360),\n",
       " (2574, 3440),\n",
       " (2611, 6240),\n",
       " (2659, 4000),\n",
       " (2684, 2880),\n",
       " (2686, 6800),\n",
       " (2710, 4560),\n",
       " (2715, 1200),\n",
       " (2732, 7360),\n",
       " (2880, 865),\n",
       " (2880, 993),\n",
       " (2880, 1424),\n",
       " (2880, 1588),\n",
       " (2880, 2004),\n",
       " (2880, 2572),\n",
       " (2880, 3617),\n",
       " (2880, 3854),\n",
       " (2880, 4160),\n",
       " (2880, 4366),\n",
       " (2880, 5301),\n",
       " (2880, 5913),\n",
       " (2880, 6075),\n",
       " (2880, 6970),\n",
       " (2994, 2880),\n",
       " (3111, 640),\n",
       " (3135, 5120),\n",
       " (3229, 2880),\n",
       " (3255, 640),\n",
       " (3440, 2667),\n",
       " (3440, 3085),\n",
       " (3440, 5336),\n",
       " (3619, 5120),\n",
       " (3632, 2127),\n",
       " (3748, 2011),\n",
       " (3764, 5120),\n",
       " (3776, 3440),\n",
       " (3800, 5680),\n",
       " (3831, 7360),\n",
       " (3914, 1845),\n",
       " (4000, 3110),\n",
       " (4000, 5381),\n",
       " (4000, 6445),\n",
       " (4000, 6598),\n",
       " (4000, 7045),\n",
       " (4000, 7150),\n",
       " (4116, 6800),\n",
       " (4154, 4965),\n",
       " (4159, 1760),\n",
       " (4242, 4876),\n",
       " (4308, 6800),\n",
       " (4356, 5680),\n",
       " (4361, 1760),\n",
       " (4377, 4742),\n",
       " (4391, 7360),\n",
       " (4739, 1760),\n",
       " (4747, 4560),\n",
       " (4757, 2880),\n",
       " (4772, 6800),\n",
       " (4819, 7360),\n",
       " (4860, 940),\n",
       " (4898, 6800),\n",
       " (4949, 4560),\n",
       " (5120, 1489),\n",
       " (5120, 6977),\n",
       " (5120, 7217),\n",
       " (5294, 1760),\n",
       " (5317, 3440),\n",
       " (5325, 6594),\n",
       " (5358, 960),\n",
       " (5414, 2880),\n",
       " (5419, 7360),\n",
       " (5445, 3440),\n",
       " (5489, 830),\n",
       " (5680, 1965),\n",
       " (5680, 2188),\n",
       " (5680, 2523),\n",
       " (5680, 2722),\n",
       " (5680, 6034),\n",
       " (5780, 5680),\n",
       " (5894, 3440),\n",
       " (5984, 5680),\n",
       " (6047, 6607),\n",
       " (6052, 3440),\n",
       " (6240, 3227),\n",
       " (6240, 4796),\n",
       " (6240, 4934),\n",
       " (6352, 6687),\n",
       " (6425, 4560),\n",
       " (6494, 3440),\n",
       " (6510, 2880),\n",
       " (6521, 6518),\n",
       " (6587, 3440),\n",
       " (6641, 6397),\n",
       " (6800, 3122),\n",
       " (6800, 3313),\n",
       " (6800, 3730),\n",
       " (6800, 4252),\n",
       " (6800, 4411),\n",
       " (6969, 2880),\n",
       " (7000, 6038),\n",
       " (7031, 4560),\n",
       " (7104, 3440),\n",
       " (7128, 5911),\n",
       " (7220, 4560),\n",
       " (7224, 5815),\n",
       " (7360, 2603),\n",
       " (7360, 3246),\n",
       " (7360, 3645),\n",
       " (7360, 3794),\n",
       " (7360, 5367)]"
      ]
     },
     "execution_count": 29,
     "metadata": {},
     "output_type": "execute_result"
    }
   ],
   "source": [
    "C"
   ]
  },
  {
   "cell_type": "code",
   "execution_count": 32,
   "id": "0ea395ac",
   "metadata": {},
   "outputs": [],
   "source": [
    "W = generateWarehouseLocations(M,seed=9340)"
   ]
  },
  {
   "cell_type": "code",
   "execution_count": 33,
   "id": "e35853ce",
   "metadata": {},
   "outputs": [
    {
     "data": {
      "text/plain": [
       "[(6240, 1760),\n",
       " (1760, 5120),\n",
       " (5120, 4560),\n",
       " (4000, 5680),\n",
       " (2880, 2880),\n",
       " (5680, 2880),\n",
       " (4000, 7360),\n",
       " (4560, 4560),\n",
       " (2320, 640),\n",
       " (7360, 4000)]"
      ]
     },
     "execution_count": 33,
     "metadata": {},
     "output_type": "execute_result"
    }
   ],
   "source": [
    "W"
   ]
  },
  {
   "cell_type": "code",
   "execution_count": 34,
   "id": "e97d75d8",
   "metadata": {},
   "outputs": [
    {
     "data": {
      "image/png": "[encoded data removed]",
      "text/plain": [
       "<Figure size 1000x600 with 1 Axes>"
      ]
     },
     "metadata": {},
     "output_type": "display_data"
    }
   ],
   "source": [
    "plotMap((V, E), T=C, W=W)"
   ]
  },
  {
   "cell_type": "code",
   "execution_count": 35,
   "id": "f51b8f49",
   "metadata": {},
   "outputs": [],
   "source": [
    "import pickle\n",
    "with open('myData.pickled', 'wb') as f:\n",
    "    pickle.dump(myData, f)"
   ]
  },
  {
   "cell_type": "code",
   "execution_count": null,
   "id": "97f1d83e",
   "metadata": {},
   "outputs": [],
   "source": []
  },
  {
   "cell_type": "code",
   "execution_count": null,
   "id": "49ec5702",
   "metadata": {},
   "outputs": [],
   "source": []
  }
 ],
 "metadata": {
  "kernelspec": {
   "display_name": "Python 3 (ipykernel)",
   "language": "python",
   "name": "python3"
  },
  "language_info": {
   "codemirror_mode": {
    "name": "ipython",
    "version": 3
   },
   "file_extension": ".py",
   "mimetype": "text/x-python",
   "name": "python",
   "nbconvert_exporter": "python",
   "pygments_lexer": "ipython3",
   "version": "3.11.4"
  },
  "toc": {
   "base_numbering": 1,
   "nav_menu": {
    "height": "437px",
    "width": "249px"
   },
   "number_sections": true,
   "sideBar": true,
   "skip_h1_title": false,
   "title_cell": "Table of Contents",
   "title_sidebar": "Contents",
   "toc_cell": true,
   "toc_position": {},
   "toc_section_display": true,
   "toc_window_display": false
  }
 },
 "nbformat": 4,
 "nbformat_minor": 5
}
